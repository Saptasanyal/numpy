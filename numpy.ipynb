{
  "nbformat": 4,
  "nbformat_minor": 0,
  "metadata": {
    "colab": {
      "provenance": []
    },
    "kernelspec": {
      "name": "python3",
      "display_name": "Python 3"
    },
    "language_info": {
      "name": "python"
    }
  },
  "cells": [
    {
      "cell_type": "markdown",
      "source": [
        "NumPy is a powerful library for scientific computing in Python that provides a multidimensional array object and a wide range of tools for working with these arrays. It is widely used in fields such as data analysis, machine learning, and scientific computing. In this article, we will be discussing NumPy functions in Python, which are essential for the efficient and effective manipulation of NumPy arrays.\n",
        "\n",
        "**What are Numpy Functions in Python?**\n",
        "\n",
        "NumPy functions are built-in functions provided by the NumPy library that operate on NumPy arrays. These functions are designed to efficiently process large amounts of data and perform complex calculations on multidimensional arrays. NumPy functions are designed to work with NumPy arrays and offer superior performance compared to traditional Python functions.\n",
        "\n",
        "**Syntax of Numpy Functions in Python**\n",
        "\n",
        "The syntax of NumPy functions in Python typically follows the following structure:\n",
        "\n",
        "**numpy.function_name(array, parameters)**\n",
        "\n",
        "where \"function_name\" is the name of the NumPy function, \"array\" is the NumPy array on which the function is to be applied, and \"parameters\" are any additional parameters required by the function.\n",
        "\n",
        "**Parameters of Numpy Functions in Python**\n",
        "\n",
        "\n",
        "NumPy functions in Python take one or more arrays as input and can also accept additional parameters that modify their behavior. The parameters of NumPy functions depend on the specific function being used. Here are some common parameters:\n",
        "\n",
        "**axis:** This parameter specifies the axis along which the function is applied. It is an optional parameter and its default value is None. If axis is set to None, the function will be applied to the entire array.\n",
        "\n",
        "**dtype:** This parameter specifies the data type of the returned array. It is an optional parameter and its default value is None. If dtype is set to None, the data type of the returned array will be the same as the input array.\n",
        "\n",
        "**out:** This parameter specifies the output array where the result of the function will be stored. It is an optional parameter and its default value is None. If out is set to None, the function will create a new array to store the result.\n",
        "\n",
        "**keepdims:** This parameter specifies whether to keep the dimensions of the input array in the output array. It is an optional parameter and its default value is False. If keepdims is set to True, the dimensions of the output array will be the same as the input array. If keepdims is set to False, the dimensions of the output array will be reduced by one.\n",
        "\n",
        "**Return Value of Numpy Functions in Python**\n",
        "\n",
        "The return value of a NumPy function in Python depends on the specific function being used. Some NumPy functions return a new array with the calculated results, while others modify the original array in place. However, some NumPy functions have optional output parameters such as the ‘out’ parameter. These functions allow you to specify an output array where the result will be stored. In this case, the return value will be a reference to the output array rather than a new array.\n",
        "\n",
        "\n",
        "PREPBYTES\n",
        "MARCH 2, 2023\n",
        "Last Updated on March 2, 2023 by Prepbytes\n",
        "\n",
        "\n",
        "\n",
        "NumPy is a powerful library for scientific computing in Python that provides a multidimensional array object and a wide range of tools for working with these arrays. It is widely used in fields such as data analysis, machine learning, and scientific computing. In this article, we will be discussing NumPy functions in Python, which are essential for the efficient and effective manipulation of NumPy arrays.\n",
        "\n",
        "What are Numpy Functions in Python?\n",
        "NumPy functions are built-in functions provided by the NumPy library that operate on NumPy arrays. These functions are designed to efficiently process large amounts of data and perform complex calculations on multidimensional arrays. NumPy functions are designed to work with NumPy arrays and offer superior performance compared to traditional Python functions.\n",
        "\n",
        "Syntax of Numpy Functions in Python\n",
        "The syntax of NumPy functions in Python typically follows the following structure:\n",
        "\n",
        "numpy.function_name(array, parameters)\n",
        "where \"function_name\" is the name of the NumPy function, \"array\" is the NumPy array on which the function is to be applied, and \"parameters\" are any additional parameters required by the function.\n",
        "\n",
        "Parameters of Numpy Functions in Python\n",
        "NumPy functions in Python take one or more arrays as input and can also accept additional parameters that modify their behavior. The parameters of NumPy functions depend on the specific function being used. Here are some common parameters:\n",
        "\n",
        "axis: This parameter specifies the axis along which the function is applied. It is an optional parameter and its default value is None. If axis is set to None, the function will be applied to the entire array.\n",
        "dtype: This parameter specifies the data type of the returned array. It is an optional parameter and its default value is None. If dtype is set to None, the data type of the returned array will be the same as the input array.\n",
        "out: This parameter specifies the output array where the result of the function will be stored. It is an optional parameter and its default value is None. If out is set to None, the function will create a new array to store the result.\n",
        "keepdims: This parameter specifies whether to keep the dimensions of the input array in the output array. It is an optional parameter and its default value is False. If keepdims is set to True, the dimensions of the output array will be the same as the input array. If keepdims is set to False, the dimensions of the output array will be reduced by one.\n",
        "Return Value of Numpy Functions in Python\n",
        "The return value of a NumPy function in Python depends on the specific function being used. Some NumPy functions return a new array with the calculated results, while others modify the original array in place. However, some NumPy functions have optional output parameters such as the ‘out’ parameter. These functions allow you to specify an output array where the result will be stored. In this case, the return value will be a reference to the output array rather than a new array.\n",
        "\n",
        "**Important Numpy Functions in Python**\n",
        "\n",
        "Here are some of the important NumPy functions in Python which every Data scientist must know:\n",
        "\n",
        "1. np.array(): This function is used to create an array in NumPy."
      ],
      "metadata": {
        "id": "6hmtyDcMzVnq"
      }
    },
    {
      "cell_type": "code",
      "source": [
        "import numpy as np\n",
        "b=[1,2,3]\n",
        "print(type(b))\n",
        "arr=np.array([1,2,3])\n",
        "print(arr)\n",
        "print(type(arr))"
      ],
      "metadata": {
        "colab": {
          "base_uri": "https://localhost:8080/"
        },
        "id": "At-0szaP1S7J",
        "outputId": "7e96b13a-734c-4a2f-c5ee-0355115f0e59"
      },
      "execution_count": null,
      "outputs": [
        {
          "output_type": "stream",
          "name": "stdout",
          "text": [
            "<class 'list'>\n",
            "[1 2 3]\n",
            "<class 'numpy.ndarray'>\n"
          ]
        }
      ]
    },
    {
      "cell_type": "markdown",
      "source": [
        "2. np.arange(): This function is used to create an array with a range of values."
      ],
      "metadata": {
        "id": "zFlNO_VZ17yC"
      }
    },
    {
      "cell_type": "code",
      "source": [
        "arr=np.arange(2,10)\n",
        "print(arr)\n",
        "print(type(arr))"
      ],
      "metadata": {
        "colab": {
          "base_uri": "https://localhost:8080/"
        },
        "id": "uSlJv66Q0Pue",
        "outputId": "8a30c47b-5573-4ebb-b48f-c5a2f81305cf"
      },
      "execution_count": null,
      "outputs": [
        {
          "output_type": "stream",
          "name": "stdout",
          "text": [
            "[2 3 4 5 6 7 8 9]\n",
            "<class 'numpy.ndarray'>\n"
          ]
        }
      ]
    },
    {
      "cell_type": "markdown",
      "source": [
        "3. np.zeros(): This function is used to create an array filled with zeros."
      ],
      "metadata": {
        "id": "1KGR-DOy2VgP"
      }
    },
    {
      "cell_type": "code",
      "source": [
        "arr = np.zeros(3)\n",
        "print(arr)"
      ],
      "metadata": {
        "colab": {
          "base_uri": "https://localhost:8080/"
        },
        "id": "A7YUSUy62Uwt",
        "outputId": "b8ffb687-c9c1-4ae7-f31c-78d8d8fe6a24"
      },
      "execution_count": null,
      "outputs": [
        {
          "output_type": "stream",
          "name": "stdout",
          "text": [
            "[0. 0. 0.]\n"
          ]
        }
      ]
    },
    {
      "cell_type": "markdown",
      "source": [
        "4. np.ones(): This function is used to create an array filled with ones.\n",
        "\n"
      ],
      "metadata": {
        "id": "enrmunrI2e7f"
      }
    },
    {
      "cell_type": "code",
      "execution_count": null,
      "metadata": {
        "colab": {
          "base_uri": "https://localhost:8080/"
        },
        "id": "Qul5TjnxzRTR",
        "outputId": "d620652b-2611-4dd0-a918-774f45a2a62f"
      },
      "outputs": [
        {
          "output_type": "stream",
          "name": "stdout",
          "text": [
            "[1. 1. 1.]\n"
          ]
        }
      ],
      "source": [
        "arr = np.ones(3)\n",
        "print(arr)"
      ]
    },
    {
      "cell_type": "markdown",
      "source": [
        "5. np.linspace(): This function is used to create an array with a specified number of evenly spaced values."
      ],
      "metadata": {
        "id": "216-JePw2pnu"
      }
    },
    {
      "cell_type": "code",
      "source": [
        "arr = np.linspace(0, 1, 5)\n",
        "print(arr)"
      ],
      "metadata": {
        "colab": {
          "base_uri": "https://localhost:8080/"
        },
        "id": "pC7L4sVB2ku5",
        "outputId": "50156f78-bf1b-4e5f-900a-ac854e6edc2b"
      },
      "execution_count": null,
      "outputs": [
        {
          "output_type": "stream",
          "name": "stdout",
          "text": [
            "[0.   0.25 0.5  0.75 1.  ]\n"
          ]
        }
      ]
    },
    {
      "cell_type": "markdown",
      "source": [
        "6. np.random.rand(): This function is used to create an array with random values between 0 and 1."
      ],
      "metadata": {
        "id": "8V3V44hT3Bz7"
      }
    },
    {
      "cell_type": "code",
      "source": [
        "arr = np.random.rand(3)\n",
        "print(arr)"
      ],
      "metadata": {
        "colab": {
          "base_uri": "https://localhost:8080/"
        },
        "id": "NEiqWbi92uiz",
        "outputId": "4c19e300-d82c-4fe4-e782-16640aabcdf6"
      },
      "execution_count": null,
      "outputs": [
        {
          "output_type": "stream",
          "name": "stdout",
          "text": [
            "[0.56844173 0.50193956 0.70673092]\n"
          ]
        }
      ]
    },
    {
      "cell_type": "markdown",
      "source": [
        "7. np.random.randint(): This function is used to create an array with random integer values between a specified range."
      ],
      "metadata": {
        "id": "b5wksOoG3Q0r"
      }
    },
    {
      "cell_type": "code",
      "source": [
        "arr = np.random.randint(0, 10, 5)\n",
        "print(arr)"
      ],
      "metadata": {
        "colab": {
          "base_uri": "https://localhost:8080/"
        },
        "id": "_QCIuyPI3HjP",
        "outputId": "40f29d02-8397-4906-ca7d-2c227638efef"
      },
      "execution_count": null,
      "outputs": [
        {
          "output_type": "stream",
          "name": "stdout",
          "text": [
            "[2 3 3 2 7]\n"
          ]
        }
      ]
    },
    {
      "cell_type": "markdown",
      "source": [
        "8. np.max(): This function is used to find the maximum value in an array."
      ],
      "metadata": {
        "id": "UC21-kUc3ivu"
      }
    },
    {
      "cell_type": "code",
      "source": [
        "arr = np.array([1, 2, 3])\n",
        "max_value = np.max(arr)\n",
        "print(max_value)"
      ],
      "metadata": {
        "colab": {
          "base_uri": "https://localhost:8080/"
        },
        "id": "roIGTdUS3Y_o",
        "outputId": "03edbc6a-f836-4cdc-d290-c2f2d7606237"
      },
      "execution_count": null,
      "outputs": [
        {
          "output_type": "stream",
          "name": "stdout",
          "text": [
            "3\n"
          ]
        }
      ]
    },
    {
      "cell_type": "markdown",
      "source": [
        "9. np.min(): This function is used to find the minimum value in an array."
      ],
      "metadata": {
        "id": "yV4jNTVv3sfV"
      }
    },
    {
      "cell_type": "code",
      "source": [
        "arr = np.array([1, 2, 3])\n",
        "min_value = np.min(arr)\n",
        "print(min_value)"
      ],
      "metadata": {
        "colab": {
          "base_uri": "https://localhost:8080/"
        },
        "id": "QBlscq2g3oSG",
        "outputId": "97a34178-c6ef-4482-ab96-059e04e02e7b"
      },
      "execution_count": null,
      "outputs": [
        {
          "output_type": "stream",
          "name": "stdout",
          "text": [
            "1\n"
          ]
        }
      ]
    },
    {
      "cell_type": "markdown",
      "source": [
        "10. np.mean(): This function is used to find the mean value of an array."
      ],
      "metadata": {
        "id": "okyGQXsa4rnk"
      }
    },
    {
      "cell_type": "code",
      "source": [
        "arr = np.array([1, 2, 3])\n",
        "mean_value = np.mean(arr)\n",
        "print(mean_value)"
      ],
      "metadata": {
        "colab": {
          "base_uri": "https://localhost:8080/"
        },
        "id": "D77HWGpR4nLq",
        "outputId": "d6240b6f-3158-4d92-d35d-34c96ff6e7b4"
      },
      "execution_count": null,
      "outputs": [
        {
          "output_type": "stream",
          "name": "stdout",
          "text": [
            "2.0\n"
          ]
        }
      ]
    },
    {
      "cell_type": "markdown",
      "source": [
        "11. np.median(): This function is used to find the median value of an array."
      ],
      "metadata": {
        "id": "KNDBL8ay43nx"
      }
    },
    {
      "cell_type": "code",
      "source": [
        "arr = np.array([1, 2, 3])\n",
        "median_value = np.median(arr)\n",
        "print(median_value)"
      ],
      "metadata": {
        "colab": {
          "base_uri": "https://localhost:8080/"
        },
        "id": "MQmczBYc4vwb",
        "outputId": "663362b5-e6ea-46cf-c8cb-f59ee7ee1662"
      },
      "execution_count": null,
      "outputs": [
        {
          "output_type": "stream",
          "name": "stdout",
          "text": [
            "2.0\n"
          ]
        }
      ]
    },
    {
      "cell_type": "markdown",
      "source": [
        "12. np.dot(): This function is used to find the dot product of two arrays."
      ],
      "metadata": {
        "id": "q0Ec7W7W5BRg"
      }
    },
    {
      "cell_type": "code",
      "source": [
        "arr1 = np.array([1, 2, 3])\n",
        "arr2 = np.array([4, 5, 6])\n",
        "\n",
        "dot_product = np.dot(arr1, arr2)\n",
        "print(dot_product)"
      ],
      "metadata": {
        "colab": {
          "base_uri": "https://localhost:8080/"
        },
        "id": "N7FlItXk5D-m",
        "outputId": "29f2c41c-70e1-4dbf-8cd6-0ad510edeed2"
      },
      "execution_count": null,
      "outputs": [
        {
          "output_type": "stream",
          "name": "stdout",
          "text": [
            "32\n"
          ]
        }
      ]
    },
    {
      "cell_type": "code",
      "source": [
        "import numpy as np\n",
        "arr = np.array([0, 30, 60, 90, 120, 150, 180])\n",
        "print(\"\\nThe sin value of the angles\",end = \" \")\n",
        "print(np.sin(arr * np.pi/180))\n",
        "print(\"\\nThe cosine value of the angles\",end = \" \")\n",
        "print(np.cos(arr * np.pi/180))\n",
        "print(\"\\nThe tangent value of the angles\",end = \" \")\n",
        "print(np.tan(arr * np.pi/180))\n"
      ],
      "metadata": {
        "colab": {
          "base_uri": "https://localhost:8080/"
        },
        "id": "DLrg3Jvj47xa",
        "outputId": "d98e4c76-cf38-417f-f7b8-8c9728e90eac"
      },
      "execution_count": null,
      "outputs": [
        {
          "output_type": "stream",
          "name": "stdout",
          "text": [
            "\n",
            "The sin value of the angles [0.00000000e+00 5.00000000e-01 8.66025404e-01 1.00000000e+00\n",
            " 8.66025404e-01 5.00000000e-01 1.22464680e-16]\n",
            "\n",
            "The cosine value of the angles [ 1.00000000e+00  8.66025404e-01  5.00000000e-01  6.12323400e-17\n",
            " -5.00000000e-01 -8.66025404e-01 -1.00000000e+00]\n",
            "\n",
            "The tangent value of the angles [ 0.00000000e+00  5.77350269e-01  1.73205081e+00  1.63312394e+16\n",
            " -1.73205081e+00 -5.77350269e-01 -1.22464680e-16]\n"
          ]
        }
      ]
    },
    {
      "cell_type": "code",
      "source": [
        "import numpy as np\n",
        "arr = np.array([12.202, 90.9, -123.020, 23.202])\n",
        "print(np.floor(arr))"
      ],
      "metadata": {
        "colab": {
          "base_uri": "https://localhost:8080/"
        },
        "id": "z_zMUaDs5V8Z",
        "outputId": "fd7e9124-9a42-4126-945b-094de2cf4c3f"
      },
      "execution_count": null,
      "outputs": [
        {
          "output_type": "stream",
          "name": "stdout",
          "text": [
            "[  12.   90. -124.   23.]\n"
          ]
        }
      ]
    },
    {
      "cell_type": "markdown",
      "source": [
        "** Shape of an Array**\n",
        "\n",
        "The .shape attribute of a Numpy array returns a tuple representing the dimensions of the array. It is crucial for understanding the structure of the array, whether it is one-dimensional (1D), two-dimensional (2D), or higher-dimensional."
      ],
      "metadata": {
        "id": "vFhHoBs56omF"
      }
    },
    {
      "cell_type": "code",
      "source": [
        "import numpy as np\n",
        "\n",
        "array_2d = np.array([[1, 2, 3], [4, 5, 6]])\n",
        "print(\"Shape of array:\", array_2d.shape)\n"
      ],
      "metadata": {
        "colab": {
          "base_uri": "https://localhost:8080/"
        },
        "id": "ZtqLnlJ952OY",
        "outputId": "eb88f3aa-edd7-4ccd-cf37-8fb8fd68e719"
      },
      "execution_count": null,
      "outputs": [
        {
          "output_type": "stream",
          "name": "stdout",
          "text": [
            "Shape of array: (2, 3)\n"
          ]
        }
      ]
    },
    {
      "cell_type": "markdown",
      "source": [
        "**Dimensionality**\n",
        "\n",
        "The .ndim attribute provides the number of dimensions of the array, offering insight into the complexity and potential uses of the array in operations such as matrix multiplication or reshaping."
      ],
      "metadata": {
        "id": "2oD7avbg6xiN"
      }
    },
    {
      "cell_type": "code",
      "source": [
        "print(\"Number of dimensions:\", array_2d.ndim)\n"
      ],
      "metadata": {
        "colab": {
          "base_uri": "https://localhost:8080/"
        },
        "id": "OnHn0UwG6tF2",
        "outputId": "aa609d12-c83b-4e2b-bab3-d42d1fb27f0f"
      },
      "execution_count": null,
      "outputs": [
        {
          "output_type": "stream",
          "name": "stdout",
          "text": [
            "Number of dimensions: 2\n"
          ]
        }
      ]
    },
    {
      "cell_type": "markdown",
      "source": [
        "**Data Type of the Array Elements**\n",
        "\n",
        "The .dtype attribute indicates the data type of the elements in the array, such as int32, float64, etc. This information is crucial for memory management and for performing type-appropriate operations on array elements."
      ],
      "metadata": {
        "id": "G8ol7rtq66oh"
      }
    },
    {
      "cell_type": "code",
      "source": [
        "print(\"Data type of array elements:\", array_2d.dtype)\n"
      ],
      "metadata": {
        "colab": {
          "base_uri": "https://localhost:8080/"
        },
        "id": "KYubQcnF61d9",
        "outputId": "b2d1be8d-f1f4-45f8-ea6e-059566b2750c"
      },
      "execution_count": null,
      "outputs": [
        {
          "output_type": "stream",
          "name": "stdout",
          "text": [
            "Data type of array elements: int64\n"
          ]
        }
      ]
    },
    {
      "cell_type": "markdown",
      "source": [
        "**Size of the Array**\n",
        "\n",
        "\n",
        "The .size attribute returns the total number of elements in the array. This attribute is particularly useful in loops and when performing operations that require knowledge of the array's total element count."
      ],
      "metadata": {
        "id": "4CsE-VFn7CZK"
      }
    },
    {
      "cell_type": "code",
      "source": [
        "print(\"Total number of elements:\", array_2d.size)\n"
      ],
      "metadata": {
        "colab": {
          "base_uri": "https://localhost:8080/"
        },
        "id": "40JYP0fP6_NN",
        "outputId": "8f6612b3-6489-43df-e9c6-89dd1f05f71e"
      },
      "execution_count": null,
      "outputs": [
        {
          "output_type": "stream",
          "name": "stdout",
          "text": [
            "Total number of elements: 6\n"
          ]
        }
      ]
    },
    {
      "cell_type": "markdown",
      "source": [
        "**Item Size**\n",
        "\n",
        "The .itemsize attribute returns the size (in bytes) of each array element. This is directly tied to the array's data type and is vital for understanding the memory consumption of an array."
      ],
      "metadata": {
        "id": "l4QLR33D7KOF"
      }
    },
    {
      "cell_type": "code",
      "source": [
        "print(\"Size of each element in bytes:\", array_2d.itemsize)\n"
      ],
      "metadata": {
        "colab": {
          "base_uri": "https://localhost:8080/"
        },
        "id": "uNxsmzjE7HEE",
        "outputId": "c99e4f06-57e3-424f-d908-9ddfd39ac340"
      },
      "execution_count": null,
      "outputs": [
        {
          "output_type": "stream",
          "name": "stdout",
          "text": [
            "Size of each element in bytes: 8\n"
          ]
        }
      ]
    },
    {
      "cell_type": "code",
      "source": [],
      "metadata": {
        "id": "aucOi8XL7OR8"
      },
      "execution_count": null,
      "outputs": []
    }
  ]
}